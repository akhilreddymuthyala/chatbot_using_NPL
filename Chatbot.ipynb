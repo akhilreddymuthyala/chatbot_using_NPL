{
 "cells": [
  {
   "cell_type": "markdown",
   "id": "497048c7-f27b-45c3-81dd-23e7a8fb32b8",
   "metadata": {},
   "source": [
    "# Implementation of ChatBot using NLP"
   ]
  },
  {
   "cell_type": "code",
   "execution_count": 8,
   "id": "f2b15119-abb0-4b58-9601-0c2d285b41ec",
   "metadata": {},
   "outputs": [
    {
     "name": "stdout",
     "output_type": "stream",
     "text": [
      "Requirement already satisfied: nltk in c:\\users\\muthy\\appdata\\local\\programs\\python\\python312\\lib\\site-packages (3.9.1)\n",
      "Requirement already satisfied: scikit-learn in c:\\users\\muthy\\appdata\\local\\programs\\python\\python312\\lib\\site-packages (1.6.1)\n",
      "Requirement already satisfied: streamlit in c:\\users\\muthy\\appdata\\local\\programs\\python\\python312\\lib\\site-packages (1.42.2)\n",
      "Requirement already satisfied: click in c:\\users\\muthy\\appdata\\local\\programs\\python\\python312\\lib\\site-packages (from nltk) (8.1.8)\n",
      "Requirement already satisfied: joblib in c:\\users\\muthy\\appdata\\local\\programs\\python\\python312\\lib\\site-packages (from nltk) (1.4.2)\n",
      "Requirement already satisfied: regex>=2021.8.3 in c:\\users\\muthy\\appdata\\local\\programs\\python\\python312\\lib\\site-packages (from nltk) (2024.11.6)\n",
      "Requirement already satisfied: tqdm in c:\\users\\muthy\\appdata\\local\\programs\\python\\python312\\lib\\site-packages (from nltk) (4.67.1)\n",
      "Requirement already satisfied: numpy>=1.19.5 in c:\\users\\muthy\\appdata\\local\\programs\\python\\python312\\lib\\site-packages (from scikit-learn) (2.2.3)\n",
      "Requirement already satisfied: scipy>=1.6.0 in c:\\users\\muthy\\appdata\\local\\programs\\python\\python312\\lib\\site-packages (from scikit-learn) (1.15.2)\n",
      "Requirement already satisfied: threadpoolctl>=3.1.0 in c:\\users\\muthy\\appdata\\local\\programs\\python\\python312\\lib\\site-packages (from scikit-learn) (3.5.0)\n",
      "Requirement already satisfied: altair<6,>=4.0 in c:\\users\\muthy\\appdata\\local\\programs\\python\\python312\\lib\\site-packages (from streamlit) (5.5.0)\n",
      "Requirement already satisfied: blinker<2,>=1.0.0 in c:\\users\\muthy\\appdata\\local\\programs\\python\\python312\\lib\\site-packages (from streamlit) (1.9.0)\n",
      "Requirement already satisfied: cachetools<6,>=4.0 in c:\\users\\muthy\\appdata\\local\\programs\\python\\python312\\lib\\site-packages (from streamlit) (5.5.2)\n",
      "Requirement already satisfied: packaging<25,>=20 in c:\\users\\muthy\\appdata\\local\\programs\\python\\python312\\lib\\site-packages (from streamlit) (24.2)\n",
      "Requirement already satisfied: pandas<3,>=1.4.0 in c:\\users\\muthy\\appdata\\local\\programs\\python\\python312\\lib\\site-packages (from streamlit) (2.2.3)\n",
      "Requirement already satisfied: pillow<12,>=7.1.0 in c:\\users\\muthy\\appdata\\local\\programs\\python\\python312\\lib\\site-packages (from streamlit) (10.2.0)\n",
      "Requirement already satisfied: protobuf<6,>=3.20 in c:\\users\\muthy\\appdata\\local\\programs\\python\\python312\\lib\\site-packages (from streamlit) (5.29.3)\n",
      "Requirement already satisfied: pyarrow>=7.0 in c:\\users\\muthy\\appdata\\local\\programs\\python\\python312\\lib\\site-packages (from streamlit) (19.0.1)\n",
      "Requirement already satisfied: requests<3,>=2.27 in c:\\users\\muthy\\appdata\\local\\programs\\python\\python312\\lib\\site-packages (from streamlit) (2.32.3)\n",
      "Requirement already satisfied: rich<14,>=10.14.0 in c:\\users\\muthy\\appdata\\local\\programs\\python\\python312\\lib\\site-packages (from streamlit) (13.9.4)\n",
      "Requirement already satisfied: tenacity<10,>=8.1.0 in c:\\users\\muthy\\appdata\\local\\programs\\python\\python312\\lib\\site-packages (from streamlit) (9.0.0)\n",
      "Requirement already satisfied: toml<2,>=0.10.1 in c:\\users\\muthy\\appdata\\local\\programs\\python\\python312\\lib\\site-packages (from streamlit) (0.10.2)\n",
      "Requirement already satisfied: typing-extensions<5,>=4.4.0 in c:\\users\\muthy\\appdata\\local\\programs\\python\\python312\\lib\\site-packages (from streamlit) (4.12.2)\n",
      "Requirement already satisfied: watchdog<7,>=2.1.5 in c:\\users\\muthy\\appdata\\local\\programs\\python\\python312\\lib\\site-packages (from streamlit) (6.0.0)\n",
      "Requirement already satisfied: gitpython!=3.1.19,<4,>=3.0.7 in c:\\users\\muthy\\appdata\\local\\programs\\python\\python312\\lib\\site-packages (from streamlit) (3.1.44)\n",
      "Requirement already satisfied: pydeck<1,>=0.8.0b4 in c:\\users\\muthy\\appdata\\local\\programs\\python\\python312\\lib\\site-packages (from streamlit) (0.9.1)\n",
      "Requirement already satisfied: tornado<7,>=6.0.3 in c:\\users\\muthy\\appdata\\local\\programs\\python\\python312\\lib\\site-packages (from streamlit) (6.4.2)\n",
      "Requirement already satisfied: jinja2 in c:\\users\\muthy\\appdata\\local\\programs\\python\\python312\\lib\\site-packages (from altair<6,>=4.0->streamlit) (3.1.5)\n",
      "Requirement already satisfied: jsonschema>=3.0 in c:\\users\\muthy\\appdata\\local\\programs\\python\\python312\\lib\\site-packages (from altair<6,>=4.0->streamlit) (4.23.0)\n",
      "Requirement already satisfied: narwhals>=1.14.2 in c:\\users\\muthy\\appdata\\local\\programs\\python\\python312\\lib\\site-packages (from altair<6,>=4.0->streamlit) (1.28.0)\n",
      "Requirement already satisfied: colorama in c:\\users\\muthy\\appdata\\local\\programs\\python\\python312\\lib\\site-packages (from click->nltk) (0.4.6)\n",
      "Requirement already satisfied: gitdb<5,>=4.0.1 in c:\\users\\muthy\\appdata\\local\\programs\\python\\python312\\lib\\site-packages (from gitpython!=3.1.19,<4,>=3.0.7->streamlit) (4.0.12)\n",
      "Requirement already satisfied: python-dateutil>=2.8.2 in c:\\users\\muthy\\appdata\\local\\programs\\python\\python312\\lib\\site-packages (from pandas<3,>=1.4.0->streamlit) (2.9.0.post0)\n",
      "Requirement already satisfied: pytz>=2020.1 in c:\\users\\muthy\\appdata\\local\\programs\\python\\python312\\lib\\site-packages (from pandas<3,>=1.4.0->streamlit) (2025.1)\n",
      "Requirement already satisfied: tzdata>=2022.7 in c:\\users\\muthy\\appdata\\local\\programs\\python\\python312\\lib\\site-packages (from pandas<3,>=1.4.0->streamlit) (2025.1)\n",
      "Requirement already satisfied: charset-normalizer<4,>=2 in c:\\users\\muthy\\appdata\\local\\programs\\python\\python312\\lib\\site-packages (from requests<3,>=2.27->streamlit) (3.4.1)\n",
      "Requirement already satisfied: idna<4,>=2.5 in c:\\users\\muthy\\appdata\\local\\programs\\python\\python312\\lib\\site-packages (from requests<3,>=2.27->streamlit) (3.10)\n",
      "Requirement already satisfied: urllib3<3,>=1.21.1 in c:\\users\\muthy\\appdata\\local\\programs\\python\\python312\\lib\\site-packages (from requests<3,>=2.27->streamlit) (2.3.0)\n",
      "Requirement already satisfied: certifi>=2017.4.17 in c:\\users\\muthy\\appdata\\local\\programs\\python\\python312\\lib\\site-packages (from requests<3,>=2.27->streamlit) (2025.1.31)\n",
      "Requirement already satisfied: markdown-it-py>=2.2.0 in c:\\users\\muthy\\appdata\\local\\programs\\python\\python312\\lib\\site-packages (from rich<14,>=10.14.0->streamlit) (3.0.0)\n",
      "Requirement already satisfied: pygments<3.0.0,>=2.13.0 in c:\\users\\muthy\\appdata\\local\\programs\\python\\python312\\lib\\site-packages (from rich<14,>=10.14.0->streamlit) (2.19.1)\n",
      "Requirement already satisfied: smmap<6,>=3.0.1 in c:\\users\\muthy\\appdata\\local\\programs\\python\\python312\\lib\\site-packages (from gitdb<5,>=4.0.1->gitpython!=3.1.19,<4,>=3.0.7->streamlit) (5.0.2)\n",
      "Requirement already satisfied: MarkupSafe>=2.0 in c:\\users\\muthy\\appdata\\local\\programs\\python\\python312\\lib\\site-packages (from jinja2->altair<6,>=4.0->streamlit) (3.0.2)\n",
      "Requirement already satisfied: attrs>=22.2.0 in c:\\users\\muthy\\appdata\\local\\programs\\python\\python312\\lib\\site-packages (from jsonschema>=3.0->altair<6,>=4.0->streamlit) (25.1.0)\n",
      "Requirement already satisfied: jsonschema-specifications>=2023.03.6 in c:\\users\\muthy\\appdata\\local\\programs\\python\\python312\\lib\\site-packages (from jsonschema>=3.0->altair<6,>=4.0->streamlit) (2024.10.1)\n",
      "Requirement already satisfied: referencing>=0.28.4 in c:\\users\\muthy\\appdata\\local\\programs\\python\\python312\\lib\\site-packages (from jsonschema>=3.0->altair<6,>=4.0->streamlit) (0.36.2)\n",
      "Requirement already satisfied: rpds-py>=0.7.1 in c:\\users\\muthy\\appdata\\local\\programs\\python\\python312\\lib\\site-packages (from jsonschema>=3.0->altair<6,>=4.0->streamlit) (0.23.1)\n",
      "Requirement already satisfied: mdurl~=0.1 in c:\\users\\muthy\\appdata\\local\\programs\\python\\python312\\lib\\site-packages (from markdown-it-py>=2.2.0->rich<14,>=10.14.0->streamlit) (0.1.2)\n",
      "Requirement already satisfied: six>=1.5 in c:\\users\\muthy\\appdata\\local\\programs\\python\\python312\\lib\\site-packages (from python-dateutil>=2.8.2->pandas<3,>=1.4.0->streamlit) (1.17.0)\n",
      "Note: you may need to restart the kernel to use updated packages.\n"
     ]
    },
    {
     "name": "stderr",
     "output_type": "stream",
     "text": [
      "\n",
      "[notice] A new release of pip is available: 24.3.1 -> 25.0.1\n",
      "[notice] To update, run: python.exe -m pip install --upgrade pip\n"
     ]
    }
   ],
   "source": [
    "pip install nltk scikit-learn streamlit"
   ]
  },
  {
   "cell_type": "code",
   "execution_count": 2,
   "id": "ec47952f-30ae-490e-9181-04b9797ead3a",
   "metadata": {},
   "outputs": [],
   "source": [
    "#importing ne\n",
    "import nltk\n",
    "import random\n",
    "import os\n",
    "import ssl\n",
    "import streamlit as st\n",
    "from sklearn.feature_extraction.text import TfidfVectorizer\n",
    "from sklearn.linear_model import LogisticRegression"
   ]
  },
  {
   "cell_type": "code",
   "execution_count": 3,
   "id": "5c44e1ed-ee6e-4c6d-ad52-9bccc7f9e022",
   "metadata": {},
   "outputs": [
    {
     "name": "stderr",
     "output_type": "stream",
     "text": [
      "[nltk_data] Downloading package punkt to\n",
      "[nltk_data]     C:\\Users\\muthy\\AppData\\Roaming\\nltk_data...\n",
      "[nltk_data]   Unzipping tokenizers\\punkt.zip.\n"
     ]
    },
    {
     "data": {
      "text/plain": [
       "True"
      ]
     },
     "execution_count": 3,
     "metadata": {},
     "output_type": "execute_result"
    }
   ],
   "source": [
    "ssl._create_default_https_context=ssl._create_unverified_context\n",
    "nltk.data.path.append(os.path.abspath('nltk_data'))\n",
    "nltk.download('punkt')"
   ]
  },
  {
   "cell_type": "code",
   "execution_count": 1,
   "id": "9f62b719-901b-4542-82fb-e9bfdfe80b94",
   "metadata": {},
   "outputs": [],
   "source": [
    "intents =[\n",
    "    {\n",
    "        'tag':'greeting',\n",
    "        'patterns':['Hi','Hello','Hey','Whats up','How are you'],\n",
    "        'responses':['Hi there','Hello','Hey','Nothing much','Im fine, thank you']\n",
    "    },\n",
    "    {\n",
    "        'tag':'goodbye',\n",
    "        'pattern':['Bye','See you later','GoodBye','Take care'],\n",
    "        'responses':['Goodbye','See you later','Take care']\n",
    "    },\n",
    "    {\n",
    "        'tag': 'thanks',\n",
    "        'patterns': ['Thanks', 'Thank you', 'Thanks a lot', 'Much appreciated'],\n",
    "        'responses': ['You\\'re welcome!', 'No problem!', 'Glad to help!', 'Anytime!']\n",
    "    },\n",
    "    {\n",
    "        'tag': 'about',\n",
    "        'patterns': ['Tell me about yourself', 'Who are you?', 'What are you?'],\n",
    "        'responses': ['I am a chatbot here to assist you!', 'I am an AI assistant.', 'I am here to help with your queries.']\n",
    "    },\n",
    "    {\n",
    "        'tag': 'help',\n",
    "        'patterns': ['Can you help me?', 'I need help', 'Help me please'],\n",
    "        'responses': ['Of course! What do you need help with?', 'I\\'m here to help.', 'Sure, let me know what you need assistance with.']\n",
    "    },\n",
    "    {\n",
    "        'tag': 'age',\n",
    "        'patterns': ['How old are you?', 'What is your age?', 'When were you created?'],\n",
    "        'responses': ['I am timeless!', 'I was created to assist you anytime.', 'Age doesn\\'t apply to me, but I\\'m always here for you.']\n",
    "    },\n",
    "    {\n",
    "        'tag': 'weather',\n",
    "        'patterns': ['What\\'s the weather like?', 'How is the weather today?', 'Tell me the weather'],\n",
    "        'responses': ['I can check the weather for you! Where are you located?', 'Let me get the latest weather update for you.']\n",
    "    },\n",
    "    {\n",
    "        'tag': 'budget',\n",
    "        'patterns': ['How do I plan a budget?', 'Tips for budgeting', 'Help me with my budget'],\n",
    "        'responses': ['A good budget starts with tracking income and expenses.', 'Make sure to set financial goals and stick to them.', 'I can give you budgeting tips based on your needs.']\n",
    "    },\n",
    "    {\n",
    "        'tag': 'credit-score',\n",
    "        'patterns': ['What is a credit score?', 'How to improve my credit score?', 'Tell me about credit scores'],\n",
    "        'responses': ['A credit score is a number that represents your creditworthiness.', 'To improve your credit score, pay bills on time and reduce debt.', 'Your credit score depends on factors like payment history and credit usage.']\n",
    "    },\n",
    "    {\n",
    "        \"tag\": \"joke\",\n",
    "        \"patterns\": [\"Tell me a joke\", \"Make me laugh\", \"Give me a joke\"],\n",
    "        \"responses\": [\"Why don't scientists trust atoms? Because they make up everything!\", \"What do you call fake spaghetti? An impasta!\", \"Why did the scarecrow win an award? Because he was outstanding in his field!\"]\n",
    "    },\n",
    "    {\n",
    "        \"tag\": \"motivation\",\n",
    "        \"patterns\": [\"Give me motivation\", \"Motivate me\", \"I need inspiration\"],\n",
    "        \"responses\": [\"Believe in yourself and all that you are!\", \"Every day is a new beginning, take a deep breath and start again.\", \"Success is not final, failure is not fatal: it is the courage to continue that counts.\"]\n",
    "    },\n",
    "    {\n",
    "        \"tag\": \"study-tips\",\n",
    "        \"patterns\": [\"How to study effectively?\", \"Give me study tips\", \"Best way to study?\"],\n",
    "        \"responses\": [\"Stay organized and create a study schedule.\", \"Use active recall and spaced repetition for better retention.\", \"Take short breaks between study sessions to stay focused.\"]\n",
    "    },\n",
    "    {\n",
    "        \"tag\": \"time-management\",\n",
    "        \"patterns\": [\"How to manage time?\", \"Time management tips\", \"Best way to manage time?\"],\n",
    "        \"responses\": [\"Prioritize tasks and avoid distractions.\", \"Use a planner or a to-do list to stay organized.\", \"Break large tasks into smaller chunks and set deadlines.\"]\n",
    "    },\n",
    "    {\n",
    "        \"tag\": \"exercise\",\n",
    "        \"patterns\": [\"Best exercises?\", \"How to stay fit?\", \"Give me fitness tips\"],\n",
    "        \"responses\": [\"Regular exercise like walking, running, or yoga keeps you healthy.\", \"Stay consistent with your workouts for better results.\", \"Balance your fitness routine with a healthy diet.\"]\n",
    "    },\n",
    "    {\n",
    "        \"tag\": \"healthy-eating\",\n",
    "        \"patterns\": [\"What should I eat to stay healthy?\", \"Healthy eating tips\", \"Best diet advice?\"],\n",
    "        \"responses\": [\"Eat more fruits, vegetables, and whole grains.\", \"Stay hydrated and avoid processed foods.\", \"Maintain a balanced diet with proteins, carbs, and fats.\"]\n",
    "    },\n",
    "    {\n",
    "        \"tag\": \"technology\",\n",
    "        \"patterns\": [\"Tell me about AI\", \"Latest tech trends\", \"What’s new in technology?\"],\n",
    "        \"responses\": [\"AI is transforming industries with automation and machine learning.\", \"The latest tech trends include AI, blockchain, and IoT.\", \"Quantum computing is advancing rapidly in the tech world.\"]\n",
    "    },\n",
    "    {\n",
    "        \"tag\": \"travel\",\n",
    "        \"patterns\": [\"Where should I travel?\", \"Best travel destinations?\", \"Give me travel advice\"],\n",
    "        \"responses\": [\"It depends on your preferences! Do you like beaches, mountains, or cities?\", \"Popular destinations include Paris, Bali, and Tokyo.\", \"Always research your destination and plan accordingly.\"]\n",
    "    },\n",
    "    {\n",
    "        \"tag\": \"movies\",\n",
    "        \"patterns\": [\"Recommend me a movie\", \"Best movies to watch?\", \"Give me a movie suggestion\"],\n",
    "        \"responses\": [\"If you like action, try 'Inception' or 'Mad Max: Fury Road'.\", \"For comedy, check out 'Superbad' or 'The Grand Budapest Hotel'.\", \"If you love sci-fi, watch 'Interstellar' or 'Blade Runner 2049'.\"]\n",
    "    },\n",
    "    {\n",
    "        \"tag\": \"books\",\n",
    "        \"patterns\": [\"Recommend me a book\", \"Best books to read?\", \"Give me a book suggestion\"],\n",
    "        \"responses\": [\"For fiction, try 'To Kill a Mockingbird' or '1984'.\", \"If you like self-help, read 'Atomic Habits' or 'The 7 Habits of Highly Effective People'.\", \"For fantasy, 'Harry Potter' and 'The Lord of the Rings' are classics.\"]\n",
    "    }\n",
    "]      "
   ]
  },
  {
   "cell_type": "code",
   "execution_count": null,
   "id": "e0e63e17-0a14-416b-aa3a-8d0263d349cf",
   "metadata": {},
   "outputs": [],
   "source": []
  }
 ],
 "metadata": {
  "kernelspec": {
   "display_name": "Python 3 (ipykernel)",
   "language": "python",
   "name": "python3"
  },
  "language_info": {
   "codemirror_mode": {
    "name": "ipython",
    "version": 3
   },
   "file_extension": ".py",
   "mimetype": "text/x-python",
   "name": "python",
   "nbconvert_exporter": "python",
   "pygments_lexer": "ipython3",
   "version": "3.12.1"
  }
 },
 "nbformat": 4,
 "nbformat_minor": 5
}
